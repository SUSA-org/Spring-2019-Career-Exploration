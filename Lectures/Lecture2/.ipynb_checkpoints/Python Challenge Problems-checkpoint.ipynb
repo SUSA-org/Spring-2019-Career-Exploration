{
 "cells": [
  {
   "cell_type": "markdown",
   "metadata": {},
   "source": [
    "# Challenge Problems"
   ]
  },
  {
   "cell_type": "markdown",
   "metadata": {},
   "source": [
    "## Q1: Worst Walk on Campus\n",
    "\n",
    "Citation: https://access.berkeley.edu/navigating-berkeley/campus-buildings"
   ]
  },
  {
   "cell_type": "markdown",
   "metadata": {},
   "source": [
    "**Note: this is for people who already know the Python basics.**\n",
    "\n",
    "Some \"refresher\" documentation:\n",
    "- https://docs.python.org/3/tutorial/datastructures.html#list-comprehensions\n",
    "- https://docs.python.org/2/library/itertools.html#itertools.combinations\n",
    "- https://docs.python.org/2/library/functions.html"
   ]
  },
  {
   "cell_type": "code",
   "execution_count": 3,
   "metadata": {},
   "outputs": [],
   "source": [
    "from geopy.geocoders import Nominatim"
   ]
  },
  {
   "cell_type": "code",
   "execution_count": 4,
   "metadata": {},
   "outputs": [
    {
     "name": "stderr",
     "output_type": "stream",
     "text": [
      "/Users/ajay/anaconda3/envs/deeplearning/lib/python3.6/site-packages/ipykernel_launcher.py:1: DeprecationWarning: Using Nominatim with the default \"geopy/1.18.1\" `user_agent` is strongly discouraged, as it violates Nominatim's ToS https://operations.osmfoundation.org/policies/nominatim/ and may possibly cause 403 and 429 HTTP errors. Please specify a custom `user_agent` with `Nominatim(user_agent=\"my-application\")` or by overriding the default `user_agent`: `geopy.geocoders.options.default_user_agent = \"my-application\"`. In geopy 2.0 this will become an exception.\n",
      "  \"\"\"Entry point for launching an IPython kernel.\n"
     ]
    }
   ],
   "source": [
    "geolocator = Nominatim()"
   ]
  },
  {
   "cell_type": "code",
   "execution_count": 5,
   "metadata": {
    "collapsed": true
   },
   "outputs": [],
   "source": [
    "building_names = []\n",
    "with open('buildings.txt', 'r') as f:\n",
    "    for line in f.readlines():\n",
    "        building_names.append(line.strip())"
   ]
  },
  {
   "cell_type": "code",
   "execution_count": 6,
   "metadata": {},
   "outputs": [
    {
     "name": "stdout",
     "output_type": "stream",
     "text": [
      "Halls scanned: 65/65\r"
     ]
    }
   ],
   "source": [
    "names_and_coordinates = {}\n",
    "for i, building_name in enumerate(building_names):\n",
    "    location = geolocator.geocode(building_name)\n",
    "    if location and 'Berkeley' in location.address:\n",
    "        names_and_coordinates[building_name] = (location.latitude, location.longitude)\n",
    "    print('Halls scanned: {0}/{1}'.format(i + 1, len(building_names)), end='\\r')"
   ]
  },
  {
   "cell_type": "code",
   "execution_count": 7,
   "metadata": {
    "collapsed": true
   },
   "outputs": [],
   "source": [
    "from itertools import combinations"
   ]
  },
  {
   "cell_type": "code",
   "execution_count": 8,
   "metadata": {
    "collapsed": true
   },
   "outputs": [],
   "source": [
    "from math import sin, cos, sqrt, atan2, radians\n",
    "def haversine(lat1, lon1, lat2, lon2):\n",
    "    \"\"\"Calculates the straight line distance between two latitude-longitude coordinates\"\"\"\n",
    "    # approximate radius of earth in miles\n",
    "    R = 3959.0\n",
    "\n",
    "    lat1_r = radians(lat1)\n",
    "    lon1_r = radians(lon1)\n",
    "    lat2_r = radians(lat2)\n",
    "    lon2_r = radians(lon2)\n",
    "\n",
    "    dlon = lon2_r - lon1_r\n",
    "    dlat = lat2_r - lat1_r\n",
    "\n",
    "    a = sin(dlat / 2)**2 + cos(lat1_r) * cos(lat2_r) * sin(dlon / 2)**2\n",
    "    c = 2 * atan2(sqrt(a), sqrt(1 - a))\n",
    "\n",
    "    return R * c"
   ]
  },
  {
   "cell_type": "markdown",
   "metadata": {},
   "source": [
    "You are trying to create the most evil schedule on campus, which contains back-to-back classes in buildings that are the furthest apart on campus. You are given the buildings and coordinates of those locations in a dictionary that can be queried as follows:"
   ]
  },
  {
   "cell_type": "code",
   "execution_count": 9,
   "metadata": {},
   "outputs": [
    {
     "data": {
      "text/plain": [
       "((37.8756741, -122.258724), (37.8750816, -122.257557811467))"
      ]
     },
     "execution_count": 9,
     "metadata": {},
     "output_type": "execute_result"
    }
   ],
   "source": [
    "names_and_coordinates['Soda Hall'], names_and_coordinates['Cory Hall']"
   ]
  },
  {
   "cell_type": "markdown",
   "metadata": {},
   "source": [
    "Write a function that returns a tuple of the furthest two buildings on campus, and the distance in miles between the two."
   ]
  },
  {
   "cell_type": "code",
   "execution_count": 10,
   "metadata": {
    "collapsed": true
   },
   "outputs": [],
   "source": [
    "# Solution\n",
    "def furthest_walk_on_campus(names_and_coordinates):\n",
    "    def key_fn(entry):\n",
    "        (bname1, (lat1, lon1)), (bname2, (lat2, lon2)) = entry\n",
    "        return haversine(lat1, lon1, lat2, lon2)\n",
    "    (bname1, (lat1, lon1)), (bname2, (lat2, lon2)) = max(\n",
    "        combinations(\n",
    "            names_and_coordinates.items(),\n",
    "            2\n",
    "        ),\n",
    "        key=key_fn\n",
    "    )\n",
    "    return bname1, bname2, haversine(lat1, lon1, lat2, lon2)"
   ]
  },
  {
   "cell_type": "code",
   "execution_count": 11,
   "metadata": {
    "scrolled": true
   },
   "outputs": [
    {
     "name": "stdout",
     "output_type": "stream",
     "text": [
      "The furthest walk on campus is Boalt Hall to Koshland Hall, which is 0.6802260249419092 miles\n"
     ]
    }
   ],
   "source": [
    "print('The furthest walk on campus is {0} to {1}, which is {2} miles'.format(*furthest_walk_on_campus(names_and_coordinates)))"
   ]
  },
  {
   "cell_type": "markdown",
   "metadata": {},
   "source": [
    "**Extension**: Distance isn't always the best measure of the worst walk. Use Google Maps Matrix API (https://developers.google.com/maps/documentation/distance-matrix/intro)'s time to destination function to rank the walks instead."
   ]
  },
  {
   "cell_type": "markdown",
   "metadata": {},
   "source": [
    "## Q2: Solving Sudoku"
   ]
  },
  {
   "cell_type": "markdown",
   "metadata": {},
   "source": [
    "http://lipas.uwasa.fi/~timan/sudoku/"
   ]
  },
  {
   "cell_type": "code",
   "execution_count": 13,
   "metadata": {
    "collapsed": true
   },
   "outputs": [],
   "source": [
    "def read_board(filename):\n",
    "    with open(filename, 'r') as f:\n",
    "        lines = f.readlines()\n",
    "        board = []\n",
    "        for line in lines:\n",
    "            board.append(line.split(' ')[:-1])\n",
    "    return board[:-1]"
   ]
  },
  {
   "cell_type": "code",
   "execution_count": 30,
   "metadata": {
    "collapsed": true
   },
   "outputs": [],
   "source": [
    "def check_solution(original_board, board):\n",
    "    \"\"\"Checks that the board has a valid solution based on Sudoku rules. \n",
    "    This does NOT test all of the rules! Don't use it to help you with the other parts.\n",
    "    \"\"\"\n",
    "    for i in range(len(original_board)):\n",
    "        for j in range(len(original_board[0])):\n",
    "            if original_board[i][j] != '0' and original_board[i][j] != board[i][j]:\n",
    "                return False\n",
    "    for row in board:\n",
    "        if sum(int(digit) for digit in row) != 45:\n",
    "            return False\n",
    "    for col in range(len(original_board[0])):\n",
    "        if sum([int(original_board[i][col]) for i in range(len(original_board))]) != 45:\n",
    "            return False\n",
    "    return True"
   ]
  },
  {
   "cell_type": "code",
   "execution_count": 20,
   "metadata": {
    "collapsed": true
   },
   "outputs": [],
   "source": [
    "def get_first_empty_cell(board):\n",
    "    \"\"\"Gets the first empty cell on the board, left to right, up to down\"\"\"\n",
    "    for i, row in enumerate(board):\n",
    "        for j, col in enumerate(row):\n",
    "            if board[i][j] == '0':\n",
    "                return i, j\n",
    "    # if none available, return -1, -1\n",
    "    return -1, -1"
   ]
  },
  {
   "cell_type": "code",
   "execution_count": 21,
   "metadata": {
    "collapsed": true
   },
   "outputs": [],
   "source": [
    "def is_placement_valid(board, i, j, val):\n",
    "    \"\"\"Checks if placing <val> at position (i, j) on the board is valid\"\"\"\n",
    "    row_count = sum(1 for k in range(9) if board[k][j] == val)\n",
    "    col_count = sum(1 for l in range(9) if board[i][l] == val)\n",
    "    if row_count + col_count > 0:\n",
    "        return False\n",
    "    box_start_i, box_start_j = i - (i % 3), j - (j % 3)\n",
    "    box_count = 0\n",
    "    for i in range(3):\n",
    "        for j in range(3):\n",
    "            if board[box_start_i + i][box_start_j + j] == val:\n",
    "                box_count += 1\n",
    "    return box_count == 0"
   ]
  },
  {
   "cell_type": "code",
   "execution_count": 22,
   "metadata": {
    "collapsed": true
   },
   "outputs": [],
   "source": [
    "def solve(board):\n",
    "    \"\"\"Solves a Sudoku board: here are the steps:\n",
    "    \n",
    "        1. Find an empty cell\n",
    "        2. Find a value to place in that empty cell, if none exist, return False\n",
    "        3. Place the value in the empty cell\n",
    "        4. Recursively call solve(board):\n",
    "            a. If a solution is found, return it\n",
    "            b. If no solution is found, return False\n",
    "    \"\"\"\n",
    "    i, j = get_first_empty_cell(board)\n",
    "    if i == -1:\n",
    "        return True\n",
    "    for p in range(1, 10):\n",
    "        if is_placement_valid(board, i, j, str(p)):\n",
    "            board[i][j] = str(p)\n",
    "            if solve(board):\n",
    "                return board\n",
    "            board[i][j] = '0'\n",
    "    return False"
   ]
  },
  {
   "cell_type": "code",
   "execution_count": 34,
   "metadata": {},
   "outputs": [
    {
     "name": "stdout",
     "output_type": "stream",
     "text": [
      "Testing sudoku-puzzles/puzzle1.txt\n",
      "Testing sudoku-puzzles/puzzle2.txt\n"
     ]
    }
   ],
   "source": [
    "puzzles = ['sudoku-puzzles/puzzle1.txt', 'sudoku-puzzles/puzzle2.txt']\n",
    "\n",
    "for puzzle in puzzles:\n",
    "    original_board = read_board(puzzle)\n",
    "    print('Testing', puzzle)\n",
    "    if not check_solution(original_board, solve(original_board)):\n",
    "        print('Failed on', puzzle)"
   ]
  },
  {
   "cell_type": "markdown",
   "metadata": {
    "collapsed": true
   },
   "source": [
    "## Q3: Alien Language"
   ]
  },
  {
   "cell_type": "code",
   "execution_count": 103,
   "metadata": {
    "collapsed": true
   },
   "outputs": [],
   "source": [
    "from collections import defaultdict\n",
    "import random\n",
    "from numpy import allclose"
   ]
  },
  {
   "cell_type": "code",
   "execution_count": 70,
   "metadata": {},
   "outputs": [
    {
     "data": {
      "text/plain": [
       "'abcdefghijklmnopqrstuvwxyz'"
      ]
     },
     "execution_count": 70,
     "metadata": {},
     "output_type": "execute_result"
    }
   ],
   "source": [
    "alphabet = ''.join([chr(97 + i) for i in range(26)])\n",
    "alphabet"
   ]
  },
  {
   "cell_type": "code",
   "execution_count": 170,
   "metadata": {
    "collapsed": true
   },
   "outputs": [],
   "source": [
    "english_frequencies = {\n",
    "    'a': 0.08924485125858124,\n",
    "    'b': 0.02517162471395881,\n",
    "    'c': 0.038901601830663615,\n",
    "    'd': 0.02745995423340961,\n",
    "    'e': 0.11441647597254005,\n",
    "    'f': 0.02517162471395881,\n",
    "    'g': 0.02288329519450801,\n",
    "    'h': 0.043478260869565216,\n",
    "    'i': 0.07322654462242563,\n",
    "    'k': 0.009153318077803204,\n",
    "    'l': 0.034324942791762014,\n",
    "    'm': 0.041189931350114416,\n",
    "    'n': 0.05491990846681922,\n",
    "    'o': 0.08466819221967964,\n",
    "    'p': 0.016018306636155607,\n",
    "    'q': 0.002288329519450801,\n",
    "    'r': 0.05491990846681922,\n",
    "    's': 0.07093821510297482,\n",
    "    't': 0.09610983981693363,\n",
    "    'u': 0.036613272311212815,\n",
    "    'v': 0.009153318077803204,\n",
    "    'w': 0.004576659038901602,\n",
    "    'y': 0.02288329519450801,\n",
    "    'z': 0.002288329519450801\n",
    "}"
   ]
  },
  {
   "cell_type": "code",
   "execution_count": 171,
   "metadata": {},
   "outputs": [
    {
     "data": {
      "text/plain": [
       "'ks k xrxlrf dg qhr vfrre zdxxoipqn, kit k wkfq dg dir dg qhrsr dfvkipukqpdis qhps ps hpvhyn dggrispmr. sdfdfpqprs kq oz lrferyrn xker pq qhrpf vdky qd vpmr bdxri k wykzr qd grry zdxgdfqklyr ks bryy ks lrqqrf qhr zdxxoipqn. zdxwkfpiv swrzpgpz hdosrs qd zhkfkzqrfs gfdx k xdmpr kldoq loyynpiv ps klsoft kit lrndit pikzzofkqr. xkepiv qhr zykpx qhkq sdfdfpqprs kfr zypaors ps trxrkipiv qhr spsqrfhddt kit mkyors qhrn kfr gdoitrt di. qhps zyrkfyn ps k sqkl kq k zdxxoipqn di zkxwos qhkq tdrs idqhpiv loq sowwdfq qhr frsq dg qhr sqotriq ldtn.'"
      ]
     },
     "execution_count": 171,
     "metadata": {},
     "output_type": "execute_result"
    }
   ],
   "source": [
    "secret = open('secret.txt').readline().strip()\n",
    "secret"
   ]
  },
  {
   "cell_type": "code",
   "execution_count": 172,
   "metadata": {},
   "outputs": [],
   "source": [
    "def get_frequencies(text):\n",
    "    counts = defaultdict(int)\n",
    "    for c in text:\n",
    "        if c.lower() in alphabet:\n",
    "            counts[c.lower()] += 1\n",
    "    total = sum(counts.values())\n",
    "    return {k: v / total for k, v in counts.items()}"
   ]
  },
  {
   "cell_type": "code",
   "execution_count": 173,
   "metadata": {},
   "outputs": [],
   "source": [
    "def permute(text, mapping):\n",
    "    \"\"\"Converts every letter to its substitution in a string\"\"\"\n",
    "    def switch(c):\n",
    "        if c.lower() not in alphabet:\n",
    "            return c\n",
    "        return mapping[c.lower()]\n",
    "    return ''.join([switch(c) for c in text])"
   ]
  },
  {
   "cell_type": "code",
   "execution_count": 174,
   "metadata": {
    "collapsed": true
   },
   "outputs": [],
   "source": [
    "def get_mapping(english_frequencies, alien_frequencies):\n",
    "    mapping = {}\n",
    "    for c, freq in alien_frequencies.items():\n",
    "        candidates = [english_c for english_c in english_frequencies if allclose(english_frequencies[english_c], freq)]\n",
    "        great_candidates = list(filter(lambda x: x not in mapping, candidates))\n",
    "        if great_candidates:\n",
    "            choice = random.choice(great_candidates)\n",
    "        choice = random.choice(candidates)\n",
    "        mapping[c] = choice\n",
    "    return mapping"
   ]
  },
  {
   "cell_type": "code",
   "execution_count": 175,
   "metadata": {},
   "outputs": [],
   "source": [
    "def translate(alien_text):\n",
    "    alien_frequencies = get_frequencies(alien_text)\n",
    "    mapping = get_mapping(english_frequencies, alien_frequencies)\n",
    "    return permute(alien_text, mapping)"
   ]
  },
  {
   "cell_type": "code",
   "execution_count": 189,
   "metadata": {},
   "outputs": [
    {
     "data": {
      "text/plain": [
       "'as a memben ob the gneek commurity, ard a pant ob ore ob these ongarizatiors this is highly obbersike. sononities at uc benkeley make it thein goal to gike womer a place to beel combontable as well as betten the commurity. companirg specibic houses to chanactens bnom a mokie about bullyirg is absund ard beyord iraccunate. makirg the claim that sononities ane cliques is demearirg the sistenhood ard kalues they ane bourded or. this cleanly is a stab at a commurity or campus that does rothirg but suppont the nest ob the studert body.'"
      ]
     },
     "execution_count": 189,
     "metadata": {},
     "output_type": "execute_result"
    }
   ],
   "source": [
    "translate(secret)"
   ]
  },
  {
   "cell_type": "markdown",
   "metadata": {},
   "source": [
    "## Q4: Buildings, redux"
   ]
  },
  {
   "cell_type": "code",
   "execution_count": null,
   "metadata": {
    "collapsed": true
   },
   "outputs": [],
   "source": []
  }
 ],
 "metadata": {
  "kernelspec": {
   "display_name": "Python (deeplearning)",
   "language": "python",
   "name": "deeplearning"
  },
  "language_info": {
   "codemirror_mode": {
    "name": "ipython",
    "version": 3
   },
   "file_extension": ".py",
   "mimetype": "text/x-python",
   "name": "python",
   "nbconvert_exporter": "python",
   "pygments_lexer": "ipython3",
   "version": "3.6.3"
  }
 },
 "nbformat": 4,
 "nbformat_minor": 2
}
