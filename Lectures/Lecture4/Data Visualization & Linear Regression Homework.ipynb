{
 "cells": [
  {
   "cell_type": "markdown",
   "metadata": {
    "collapsed": true
   },
   "source": [
    "# Homework"
   ]
  },
  {
   "cell_type": "markdown",
   "metadata": {},
   "source": [
    "Now that you know how to train models on pieces of data, how to validate the model with a validation dataset, and how to test how well your chosen model is doing against a test dataset, we want you to construct some models/visualizations on the `mpg_train` dataset we worked with in class. \n",
    "\n",
    "Don't forget to import the data, and feel free to take a look at the notebook for refreshers!\n"
   ]
  },
  {
   "cell_type": "markdown",
   "metadata": {},
   "source": [
    "**Exercise 1:** Let's try to determine a correlation between two different variables in the `mpg` dataset! First, let's split the `mpg` dataset into a training set, validation set, and a test set. We didn't really go into the particular function that does this for you in this notebook, but you can scroll up and see how it's used (it's called `train_test_split`)."
   ]
  },
  {
   "cell_type": "code",
   "execution_count": null,
   "metadata": {
    "collapsed": true,
    "tags": [
     "split"
    ]
   },
   "outputs": [],
   "source": [
    "#Your code here"
   ]
  },
  {
   "cell_type": "markdown",
   "metadata": {},
   "source": [
    "**Exercise 2:** Now reconstruct the following scatter plot from the `mpg_train1` dataset.\n",
    "\n",
    "<img src='exer_2_pic.png' width=\"400\" height=\"400\">"
   ]
  },
  {
   "cell_type": "code",
   "execution_count": 1,
   "metadata": {
    "tags": [
     "scatter"
    ]
   },
   "outputs": [],
   "source": [
    "#Your code here"
   ]
  },
  {
   "cell_type": "markdown",
   "metadata": {},
   "source": [
    "**Exercise 3:** Draw a linear regression line through the graph you made right above. It should look something like what we've displayed below. *Hint: Scroll up to find out what the overlay_simple_linear_model function does.*\n",
    "\n",
    "<img src='exer_3_pic.png' width=\"400\" height=\"400\">"
   ]
  },
  {
   "cell_type": "code",
   "execution_count": 105,
   "metadata": {
    "tags": [
     "overlay"
    ]
   },
   "outputs": [],
   "source": [
    "#Your code here"
   ]
  },
  {
   "cell_type": "code",
   "execution_count": null,
   "metadata": {},
   "outputs": [],
   "source": [
    "# Make sure your return the value of the coefficient, \n",
    "# not a list with the coefficient in it\n",
    "coefficient = ...\n",
    "intercept = ..."
   ]
  },
  {
   "cell_type": "code",
   "execution_count": null,
   "metadata": {
    "collapsed": true,
    "tags": [
     "coefficient"
    ]
   },
   "outputs": [],
   "source": [
    "# Run this cell for grading\n",
    "coefficient"
   ]
  },
  {
   "cell_type": "code",
   "execution_count": null,
   "metadata": {
    "tags": [
     "intercept"
    ]
   },
   "outputs": [],
   "source": [
    "# Run this cell for grading\n",
    "intercept"
   ]
  },
  {
   "cell_type": "code",
   "execution_count": null,
   "metadata": {
    "collapsed": true
   },
   "outputs": [],
   "source": [
    "def plot_simple_residuals(data, x_name, y_name, linear_model):\n",
    "    # Fill me in\n",
    "\n",
    "plot_simple_residuals(mpg_train1, 'horsepower', 'mpg', horsepower)"
   ]
  },
  {
   "cell_type": "markdown",
   "metadata": {
    "collapsed": true
   },
   "source": [
    "**Exercise 3**: Lets try implementing our earlier multiple linear regression model.\n"
   ]
  },
  {
   "cell_type": "markdown",
   "metadata": {},
   "source": [
    "To implement any regression model, we first need to know what features to use. In our earlier example, what were the two features we used to predict our response variable?"
   ]
  },
  {
   "cell_type": "markdown",
   "metadata": {
    "tags": [
     "features"
    ]
   },
   "source": [
    "Your answer here"
   ]
  },
  {
   "cell_type": "code",
   "execution_count": null,
   "metadata": {
    "collapsed": true
   },
   "outputs": [],
   "source": [
    "x1_name = \"displacement\"\n",
    "x2_name = \"weight\"\n",
    "y = \"mpg\""
   ]
  },
  {
   "cell_type": "markdown",
   "metadata": {},
   "source": [
    "When doing regression with multiple features, it's pretty convenient to get a subset of the dataframe. Lets get the columns only associated with our two features and our response variables."
   ]
  },
  {
   "cell_type": "code",
   "execution_count": null,
   "metadata": {
    "collapsed": true
   },
   "outputs": [],
   "source": [
    "mpg_train_subset = mpg_train[[...]].dropna() #get only columns you need for the subset"
   ]
  },
  {
   "cell_type": "markdown",
   "metadata": {},
   "source": [
    "Now lets create a *feature matrix*. A *feature matrix* is what you probably think it is: it holds the values of our dataframe corresponding to the features we are using to predict our response variable. In this case, those features are displacement and weight\n",
    "\n",
    "**Question**: What does our mpg_train_subset currently have and what would we like?"
   ]
  },
  {
   "cell_type": "markdown",
   "metadata": {
    "tags": [
     "subset"
    ]
   },
   "source": [
    "Your Answer Here"
   ]
  },
  {
   "cell_type": "code",
   "execution_count": null,
   "metadata": {
    "collapsed": true
   },
   "outputs": [],
   "source": [
    "X_matrix = mpg_train_subset[[...] #get only the feature columns\n",
    "Y = mpg_train_subset[[...]] #get only the response variable's column\n"
   ]
  },
  {
   "cell_type": "markdown",
   "metadata": {},
   "source": [
    "Great! Now we're ready to fit our features to the model as we normally do"
   ]
  },
  {
   "cell_type": "code",
   "execution_count": null,
   "metadata": {
    "collapsed": true
   },
   "outputs": [],
   "source": [
    "model = LinearRegression()\n",
    "fit = model.fit(...) #want to fit our features with our response variable"
   ]
  },
  {
   "cell_type": "code",
   "execution_count": null,
   "metadata": {},
   "outputs": [],
   "source": [
    "fig = plt.figure(figsize=(10,10))\n",
    "ax = fig.add_subplot(111, projection='3d')\n"
   ]
  },
  {
   "cell_type": "markdown",
   "metadata": {},
   "source": [
    "**Question**: From the above diagram, what is the max of the axis?"
   ]
  },
  {
   "cell_type": "code",
   "execution_count": null,
   "metadata": {
    "collapsed": true,
    "tags": [
     "max"
    ]
   },
   "outputs": [],
   "source": [
    "maximum = ...\n",
    "maximum"
   ]
  },
  {
   "cell_type": "markdown",
   "metadata": {},
   "source": [
    "**Question**: What is the maximums of our data set for each feature?"
   ]
  },
  {
   "cell_type": "code",
   "execution_count": null,
   "metadata": {
    "collapsed": true
   },
   "outputs": [],
   "source": [
    "x1_max = ...\n",
    "x2_max = ..."
   ]
  },
  {
   "cell_type": "code",
   "execution_count": null,
   "metadata": {
    "tags": [
     "x1_max"
    ]
   },
   "outputs": [],
   "source": [
    "# Run this cell for grading\n",
    "x1_max"
   ]
  },
  {
   "cell_type": "code",
   "execution_count": null,
   "metadata": {
    "tags": [
     "x2_max"
    ]
   },
   "outputs": [],
   "source": [
    "# Run this cell for grading\n",
    "x2_max"
   ]
  },
  {
   "cell_type": "markdown",
   "metadata": {},
   "source": [
    "Clearly, the size of our axis is too small for each feature so lets change this. We can do so by creating an array of evenly spaced values. Create one below where the values are spaced out in intervals of 10"
   ]
  },
  {
   "cell_type": "code",
   "execution_count": null,
   "metadata": {
    "collapsed": true
   },
   "outputs": [],
   "source": [
    "x1_axis = np.arange(...)\n",
    "x2_axis = np.arange(...)"
   ]
  },
  {
   "cell_type": "markdown",
   "metadata": {},
   "source": [
    "Now we would like to create a 2D coordinate array. We would like this 2D coordinate array to be the linear combinations of the x1 and x2 axis. For example, if x1 was [a1,a2] and x2 was [b1,b2] we want to create frame where we have [[a1,b1], [a1,b2], [a2,b1], [a2,b2]]\n",
    "Check out the method np.meshgrid and np.ravel by running the cells below and think about how this can help us create our desired dataframe"
   ]
  },
  {
   "cell_type": "code",
   "execution_count": null,
   "metadata": {
    "collapsed": true
   },
   "outputs": [],
   "source": [
    "np.meshgrid?"
   ]
  },
  {
   "cell_type": "code",
   "execution_count": null,
   "metadata": {
    "collapsed": true
   },
   "outputs": [],
   "source": [
    "np.ravel?"
   ]
  },
  {
   "cell_type": "markdown",
   "metadata": {},
   "source": [
    "Now see if you can fill in the blanks below. "
   ]
  },
  {
   "cell_type": "code",
   "execution_count": null,
   "metadata": {
    "collapsed": true,
    "scrolled": true
   },
   "outputs": [],
   "source": [
    "\n",
    "x1, x2 = np.meshgrid(...) #meshgrid duplicates each array i len(i)= k times and puts all k of them into a 2d array\n",
    "#flatten each of the 2d arrays\n",
    "x1_flattened = ... \n",
    "x2_flattened = ...\n",
    "exog = pd.core.frame.DataFrame({x1_name: x1_flattened, x2_name: x2_flattened})\n",
    "out = fit.predict(exog)"
   ]
  },
  {
   "cell_type": "markdown",
   "metadata": {},
   "source": [
    "Great! Now we have everything we need to plot our 3d plot. Check out what plot surface does and try to fill in those blanks."
   ]
  },
  {
   "cell_type": "code",
   "execution_count": null,
   "metadata": {
    "collapsed": true
   },
   "outputs": [],
   "source": [
    "#our surface plot is made up of three things: our prediction, and our two feature axis\n",
    "ax.plot_surface(..., ...,\n",
    "                    out.reshape(x1.shape),\n",
    "                    rstride=1,\n",
    "                    cstride=1,\n",
    "                    color='None',\n",
    "                    alpha = 0.4)\n",
    "\n",
    "ax.scatter(...,...,...,\n",
    "               marker='o',\n",
    "               alpha=1)\n",
    "\n",
    "ax.set_xlabel(x1_name)\n",
    "ax.set_ylabel(x2_name)\n",
    "ax.set_zlabel(y)\n",
    "plt.title(\"Linear Model with 2 Explanatory Variables: \" + x1_name + \" and \" + x2_name + \" vs. \" + y, y=1.08, fontsize=16)\n",
    "\n",
    "plt.show()\n"
   ]
  },
  {
   "cell_type": "markdown",
   "metadata": {},
   "source": [
    "Congratulations! You've now done multiple linear regression. Scroll up to your previously empty 3D plot. It shouldn't be empty anymore and be the same as what we saw in lecture"
   ]
  }
 ],
 "metadata": {
  "kernelspec": {
   "display_name": "Python 3",
   "language": "python",
   "name": "python3"
  },
  "language_info": {
   "codemirror_mode": {
    "name": "ipython",
    "version": 3
   },
   "file_extension": ".py",
   "mimetype": "text/x-python",
   "name": "python",
   "nbconvert_exporter": "python",
   "pygments_lexer": "ipython3",
   "version": "3.6.2"
  }
 },
 "nbformat": 4,
 "nbformat_minor": 2
}
